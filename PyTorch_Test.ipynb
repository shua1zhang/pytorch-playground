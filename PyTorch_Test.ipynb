{
  "nbformat": 4,
  "nbformat_minor": 0,
  "metadata": {
    "colab": {
      "name": "PyTorch-Test.ipynb",
      "provenance": [],
      "collapsed_sections": [],
      "authorship_tag": "ABX9TyOVGoNGECvPqRBtkvydlywx",
      "include_colab_link": true
    },
    "kernelspec": {
      "name": "python3",
      "display_name": "Python 3"
    },
    "accelerator": "GPU"
  },
  "cells": [
    {
      "cell_type": "markdown",
      "metadata": {
        "id": "view-in-github",
        "colab_type": "text"
      },
      "source": [
        "<a href=\"https://colab.research.google.com/github/shua1zhang/pytorch-playground/blob/master/PyTorch_Test.ipynb\" target=\"_parent\"><img src=\"https://colab.research.google.com/assets/colab-badge.svg\" alt=\"Open In Colab\"/></a>"
      ]
    },
    {
      "cell_type": "markdown",
      "metadata": {
        "id": "_jYrYPM3ZHri",
        "colab_type": "text"
      },
      "source": [
        "## PyTorch Test Playground\n"
      ]
    },
    {
      "cell_type": "markdown",
      "metadata": {
        "id": "xPIjy24wZFUX",
        "colab_type": "text"
      },
      "source": [
        "### Import basic libs "
      ]
    },
    {
      "cell_type": "code",
      "metadata": {
        "id": "YL0mVDVhY7m8",
        "colab_type": "code",
        "colab": {
          "base_uri": "https://localhost:8080/",
          "height": 35
        },
        "outputId": "ad99d409-661b-4e62-c0c6-e2b6f6538964"
      },
      "source": [
        "import numpy as np\n",
        "\n",
        "import torch\n",
        "import torchvision\n",
        "import torchvision.transforms as transforms\n",
        "\n",
        "import matplotlib.pyplot as plt\n",
        "%matplotlib inline\n",
        "\n",
        "if(torch.cuda.is_available()):\n",
        "  print(\"GPU is avaliable\")"
      ],
      "execution_count": 1,
      "outputs": [
        {
          "output_type": "stream",
          "text": [
            "GPU is avaliable\n"
          ],
          "name": "stdout"
        }
      ]
    },
    {
      "cell_type": "code",
      "metadata": {
        "id": "3gbr1i28ZPU7",
        "colab_type": "code",
        "colab": {
          "base_uri": "https://localhost:8080/",
          "height": 54
        },
        "outputId": "66362952-e7df-43d5-d679-92d473d7d0e2"
      },
      "source": [
        "data_trans = transforms.ToTensor()\n",
        "\n",
        "train_data = torchvision.datasets.CIFAR10(\"./cifar\", train=True, download=True,\n",
        "                                          transform=data_trans)\n",
        "test_data  = torchvision.datasets.CIFAR10(\"./cifar\", train=False, download=True,\n",
        "                                          transform=data_trans)\n",
        "\n",
        "data_class = train_data.classes\n",
        "train_batch = 16\n",
        "test_batach = 16\n",
        "\n",
        "train_data_loader = torch.utils.data.DataLoader(train_data, batch_size=train_batch, \n",
        "                                                shuffle=True)\n",
        "test_data_loader = torch.utils.data.DataLoader(test_data, batch_size=test_batach, \n",
        "                                               shuffle=True)\n",
        "\n"
      ],
      "execution_count": 36,
      "outputs": [
        {
          "output_type": "stream",
          "text": [
            "Files already downloaded and verified\n",
            "Files already downloaded and verified\n"
          ],
          "name": "stdout"
        }
      ]
    },
    {
      "cell_type": "code",
      "metadata": {
        "id": "QIQ3ofUpdjaP",
        "colab_type": "code",
        "colab": {
          "base_uri": "https://localhost:8080/",
          "height": 659
        },
        "outputId": "59167b6a-10fb-4642-aa00-190039e6be48"
      },
      "source": [
        "data_iter = iter(train_data_loader)\n",
        "images, labels = data_iter.next()\n",
        "\n",
        "for i in range(4):\n",
        "  image = images[i]\n",
        "  label = labels[i]\n",
        "  image_show = np.transpose(image.numpy(),[1,2,0]) \n",
        "  plt.figure(figsize=(2,2))\n",
        "  plt.imshow(image_show)\n",
        "  plt.xlabel(data_class[label])\n",
        "\n",
        "image.size()"
      ],
      "execution_count": 37,
      "outputs": [
        {
          "output_type": "execute_result",
          "data": {
            "text/plain": [
              "torch.Size([3, 32, 32])"
            ]
          },
          "metadata": {
            "tags": []
          },
          "execution_count": 37
        },
        {
          "output_type": "display_data",
          "data": {
            "image/png": "[encoded data removed]",
            "text/plain": [
              "<Figure size 144x144 with 1 Axes>"
            ]
          },
          "metadata": {
            "tags": []
          }
        },
        {
          "output_type": "display_data",
          "data": {
            "image/png": "[encoded data removed]",
            "text/plain": [
              "<Figure size 144x144 with 1 Axes>"
            ]
          },
          "metadata": {
            "tags": []
          }
        },
        {
          "output_type": "display_data",
          "data": {
            "image/png": "[encoded data removed]",
            "text/plain": [
              "<Figure size 144x144 with 1 Axes>"
            ]
          },
          "metadata": {
            "tags": []
          }
        },
        {
          "output_type": "display_data",
          "data": {
            "image/png": "[encoded data removed]",
            "text/plain": [
              "<Figure size 144x144 with 1 Axes>"
            ]
          },
          "metadata": {
            "tags": []
          }
        }
      ]
    },
    {
      "cell_type": "markdown",
      "metadata": {
        "id": "YcRvBIXcPgGW",
        "colab_type": "text"
      },
      "source": [
        "### Build and train network"
      ]
    },
    {
      "cell_type": "code",
      "metadata": {
        "id": "Q8GV40BCZmEu",
        "colab_type": "code",
        "colab": {}
      },
      "source": [
        "import torch.nn as nn\n",
        "import torch.nn.functional as F"
      ],
      "execution_count": 0,
      "outputs": []
    },
    {
      "cell_type": "code",
      "metadata": {
        "id": "Rkq-5YbbQXBn",
        "colab_type": "code",
        "colab": {}
      },
      "source": [
        "class Net(nn.Module):\n",
        "  def __init__(self):\n",
        "    super(Net, self).__init__()    \n",
        "    self.conv1 = nn.Conv2d(3, 8, 5)  #28x28 ->24x24\n",
        "    self.pool1 = nn.MaxPool2d(2, 2)  #24x24 -> 12*12\n",
        "    self.conv2 = nn.Conv2d(8, 16, 5) #12x12 -> 8x8\n",
        "    self.pool2 = nn.MaxPool2d(2, 2)  #8x8 -> 4x4\n",
        "    self.fc1 = nn.Linear(16*5*5, 100)\n",
        "    self.fc2 = nn.Linear(100, 10)\n",
        "\n",
        "  def forward(self, x):\n",
        "    x = self.pool1(F.relu(self.conv1(x)))\n",
        "    x = self.pool2(F.relu(self.conv2(x)))\n",
        "    x = x.view(-1, 16*5*5)\n",
        "    x = F.relu(self.fc1(x))\n",
        "    x = self.fc2(x)\n",
        "    return x \n",
        "\n",
        "net = Net()"
      ],
      "execution_count": 0,
      "outputs": []
    },
    {
      "cell_type": "markdown",
      "metadata": {
        "id": "9VlBCB_6Z1C8",
        "colab_type": "text"
      },
      "source": [
        "### Loss function "
      ]
    },
    {
      "cell_type": "code",
      "metadata": {
        "id": "y8aJLC4rCHht",
        "colab_type": "code",
        "colab": {}
      },
      "source": [
        "import torch.optim as optim\n",
        "\n",
        "loss_func = nn.CrossEntropyLoss()\n",
        "optimizer = optim.SGD(net.parameters(), lr=0.01, momentum=0.9)"
      ],
      "execution_count": 0,
      "outputs": []
    },
    {
      "cell_type": "markdown",
      "metadata": {
        "id": "RGg9yIQrDgbr",
        "colab_type": "text"
      },
      "source": [
        "## Train"
      ]
    },
    {
      "cell_type": "code",
      "metadata": {
        "id": "y3hLK0fgCcOc",
        "colab_type": "code",
        "colab": {
          "base_uri": "https://localhost:8080/",
          "height": 308
        },
        "outputId": "66a14ca2-2829-4d7f-cca8-75985b7740d5"
      },
      "source": [
        "for epoch in range(5):\n",
        "\n",
        "  running_loss = 0.0\n",
        "  for i, data in enumerate(train_data_loader, 0):\n",
        "    #load image and label \n",
        "    train_imgs, labels = data\n",
        "\n",
        "    train_imgs.size(), labels.size()\n",
        "    #zero gradient \n",
        "    optimizer.zero_grad()\n",
        "\n",
        "    #forwad, BP\n",
        "    net_out = net(train_imgs)\n",
        "    loss = loss_func(net_out, labels)\n",
        "    loss.backward()\n",
        "    optimizer.step()\n",
        "\n",
        "    running_loss += loss.item()\n",
        "\n",
        "    samples = 1000\n",
        "\n",
        "    if i % samples == (samples - 1):\n",
        "      print('[%d, %5d] loss: %.3f' % \n",
        "            (epoch+1, i+1, running_loss/samples))\n",
        "      running_loss = 0.0\n",
        "\n",
        "print('Training Finished')\n",
        "\n",
        "\n",
        "\n"
      ],
      "execution_count": 41,
      "outputs": [
        {
          "output_type": "stream",
          "text": [
            "[1,  1000] loss: 1.992\n",
            "[1,  2000] loss: 1.721\n",
            "[1,  3000] loss: 1.624\n",
            "[2,  1000] loss: 1.555\n",
            "[2,  2000] loss: 1.546\n",
            "[2,  3000] loss: 1.527\n",
            "[3,  1000] loss: 1.448\n",
            "[3,  2000] loss: 1.466\n",
            "[3,  3000] loss: 1.432\n",
            "[4,  1000] loss: 1.412\n",
            "[4,  2000] loss: 1.409\n",
            "[4,  3000] loss: 1.400\n",
            "[5,  1000] loss: 1.339\n",
            "[5,  2000] loss: 1.362\n",
            "[5,  3000] loss: 1.369\n",
            "Training Finished\n"
          ],
          "name": "stdout"
        }
      ]
    },
    {
      "cell_type": "markdown",
      "metadata": {
        "id": "Ek5C7NdMQqS9",
        "colab_type": "text"
      },
      "source": [
        "### Test"
      ]
    },
    {
      "cell_type": "code",
      "metadata": {
        "id": "WYdcvR38JXS6",
        "colab_type": "code",
        "colab": {
          "base_uri": "https://localhost:8080/",
          "height": 209
        },
        "outputId": "654a09da-47ee-4dec-8195-fdf7e645933d"
      },
      "source": [
        "total = 0\n",
        "correct = 0  \n",
        "\n",
        "with torch.no_grad():\n",
        "  for data in test_data_loader:\n",
        "    test_imgs, labels = data\n",
        "    results = net(test_imgs)\n",
        "    value, predicts = torch.max(results.data, 1)\n",
        "    total += labels.size(0)\n",
        "    correct += (predicts == labels).sum().item()\n",
        "\n",
        "print('Accuracy of the network with %d images: %d %%' % (total, (100*correct/total)))\n",
        "\n",
        "plt.figure(figsize=(2,2))\n",
        "plt.imshow(np.transpose(test_imgs[1].numpy(),[1,2,0]))\n",
        "plt.xlabel(data_class[predicts[1]])"
      ],
      "execution_count": 77,
      "outputs": [
        {
          "output_type": "stream",
          "text": [
            "Accuracy of the network with 10000 images: 50 %\n"
          ],
          "name": "stdout"
        },
        {
          "output_type": "execute_result",
          "data": {
            "text/plain": [
              "Text(0.5, 0, 'horse')"
            ]
          },
          "metadata": {
            "tags": []
          },
          "execution_count": 77
        },
        {
          "output_type": "display_data",
          "data": {
            "image/png": "[encoded data removed]",
            "text/plain": [
              "<Figure size 144x144 with 1 Axes>"
            ]
          },
          "metadata": {
            "tags": []
          }
        }
      ]
    },
    {
      "cell_type": "code",
      "metadata": {
        "id": "CC4mpEiYMvH3",
        "colab_type": "code",
        "colab": {}
      },
      "source": [
        ""
      ],
      "execution_count": 0,
      "outputs": []
    }
  ]
}