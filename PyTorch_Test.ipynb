{
  "nbformat": 4,
  "nbformat_minor": 0,
  "metadata": {
    "colab": {
      "name": "PyTorch-Test.ipynb",
      "provenance": [],
      "collapsed_sections": [],
      "authorship_tag": "ABX9TyO+FcqhghXvhM1xnlZmDy5w",
      "include_colab_link": true
    },
    "kernelspec": {
      "name": "python3",
      "display_name": "Python 3"
    },
    "accelerator": "GPU"
  },
  "cells": [
    {
      "cell_type": "markdown",
      "metadata": {
        "id": "view-in-github",
        "colab_type": "text"
      },
      "source": [
        "<a href=\"https://colab.research.google.com/github/shua1zhang/pytorch-playground/blob/master/PyTorch_Test.ipynb\" target=\"_parent\"><img src=\"https://colab.research.google.com/assets/colab-badge.svg\" alt=\"Open In Colab\"/></a>"
      ]
    },
    {
      "cell_type": "markdown",
      "metadata": {
        "id": "_jYrYPM3ZHri",
        "colab_type": "text"
      },
      "source": [
        "## PyTorch Test Playground\n"
      ]
    },
    {
      "cell_type": "markdown",
      "metadata": {
        "id": "xPIjy24wZFUX",
        "colab_type": "text"
      },
      "source": [
        "### Import basic libs "
      ]
    },
    {
      "cell_type": "code",
      "metadata": {
        "id": "YL0mVDVhY7m8",
        "colab_type": "code",
        "colab": {
          "base_uri": "https://localhost:8080/",
          "height": 35
        },
        "outputId": "86a1dca6-99d2-4a18-81b0-3b0a9cf23f3c"
      },
      "source": [
        "import numpy as np\n",
        "\n",
        "import torch\n",
        "import torchvision\n",
        "import torchvision.transforms as transforms\n",
        "\n",
        "import matplotlib.pyplot as plt\n",
        "%matplotlib inline\n",
        "\n",
        "\n",
        "torch.cuda.is_available()"
      ],
      "execution_count": 1,
      "outputs": [
        {
          "output_type": "execute_result",
          "data": {
            "text/plain": [
              "True"
            ]
          },
          "metadata": {
            "tags": []
          },
          "execution_count": 1
        }
      ]
    },
    {
      "cell_type": "code",
      "metadata": {
        "id": "3gbr1i28ZPU7",
        "colab_type": "code",
        "colab": {
          "base_uri": "https://localhost:8080/",
          "height": 54
        },
        "outputId": "17b88992-4d3a-414f-c128-3c899600ab7b"
      },
      "source": [
        "data_trans = transforms.ToTensor()\n",
        "\n",
        "train_data = torchvision.datasets.CIFAR10(\"./cifar\", train=True, download=True,\n",
        "                                          transform=data_trans)\n",
        "test_data  = torchvision.datasets.CIFAR10(\"./cifar\", train=False, download=True,\n",
        "                                          transform=data_trans)\n",
        "\n",
        "data_class = train_data.classes\n",
        "train_batch = 16\n",
        "test_batach = 1\n",
        "\n",
        "train_data_loader = torch.utils.data.DataLoader(train_data, batch_size=train_batch, \n",
        "                                                shuffle=True, num_workers=2)\n",
        "test_data_loader = torch.utils.data.DataLoader(test_data, batch_size=test_batach, \n",
        "                                               shuffle=True, num_workers=2)\n",
        "\n"
      ],
      "execution_count": 15,
      "outputs": [
        {
          "output_type": "stream",
          "text": [
            "Files already downloaded and verified\n",
            "Files already downloaded and verified\n"
          ],
          "name": "stdout"
        }
      ]
    },
    {
      "cell_type": "code",
      "metadata": {
        "id": "QIQ3ofUpdjaP",
        "colab_type": "code",
        "colab": {
          "base_uri": "https://localhost:8080/",
          "height": 191
        },
        "outputId": "49541d4a-ee03-40d5-91db-2a57e1c558d5"
      },
      "source": [
        "data_iter = iter(train_data_loader)\n",
        "images, labels = data_iter.next()\n",
        "\n",
        "for i in range (train_batch)\n",
        "  image = images[0]\n",
        "  label = labels[0]\n",
        "image_show = np.transpose(image.numpy(),[1,2,0])\n",
        "plt.figure(figsize=(2,2))\n",
        "plt.imshow(image_show)\n",
        "plt.xlabel(data_class[label])"
      ],
      "execution_count": 14,
      "outputs": [
        {
          "output_type": "execute_result",
          "data": {
            "text/plain": [
              "Text(0.5, 0, 'truck')"
            ]
          },
          "metadata": {
            "tags": []
          },
          "execution_count": 14
        },
        {
          "output_type": "display_data",
          "data": {
            "image/png": "[encoded data removed]",
            "text/plain": [
              "<Figure size 144x144 with 1 Axes>"
            ]
          },
          "metadata": {
            "tags": []
          }
        }
      ]
    },
    {
      "cell_type": "code",
      "metadata": {
        "id": "Q8GV40BCZmEu",
        "colab_type": "code",
        "colab": {}
      },
      "source": [
        ""
      ],
      "execution_count": 0,
      "outputs": []
    }
  ]
}